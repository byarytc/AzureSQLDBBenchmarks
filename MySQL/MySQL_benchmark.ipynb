{
    "cells": [
        {
            "cell_type": "code",
            "execution_count": 16,
            "source": [
                "pip install mysql-connector-python\r\n"
            ],
            "outputs": [
                {
                    "output_type": "stream",
                    "name": "stdout",
                    "text": [
                        "Requirement already satisfied: mysql-connector-python in c:\\users\\1\\appdata\\local\\programs\\python\\python36-32\\lib\\site-packages (8.0.6)\n",
                        "Note: you may need to restart the kernel to use updated packages.\n"
                    ]
                },
                {
                    "output_type": "stream",
                    "name": "stderr",
                    "text": [
                        "WARNING: You are using pip version 21.1.3; however, version 21.2.4 is available.\n",
                        "You should consider upgrading via the 'C:\\Users\\1\\AppData\\Local\\Programs\\Python\\Python36-32\\python.exe -m pip install --upgrade pip' command.\n"
                    ]
                }
            ],
            "metadata": {}
        },
        {
            "cell_type": "code",
            "execution_count": 17,
            "source": [
                "import MySQL_settings as s\r\n",
                "import pandas as pd\r\n",
                "from getpass import getpass\r\n",
                "from mysql.connector import connect, Error\r\n",
                "\r\n",
                "\r\n",
                "import mysql.connector\r\n",
                "\r\n",
                "con = mysql.connector.connect(user=s.USER, password=s.PASS,\r\n",
                "                              host=s.HOST,\r\n",
                "                              database='benchmark')\r\n",
                "\r\n",
                "cursor = con.cursor()\r\n",
                "\r\n"
            ],
            "outputs": [],
            "metadata": {}
        },
        {
            "cell_type": "code",
            "execution_count": 6,
            "source": [
                "# Download and read csv file\r\n",
                "df = pd.read_csv('https://globaldatalab.org/assets/2019/09/SHDI%20Complete%203.0.csv',\r\n",
                "                 encoding='ISO-8859–1', dtype='str')\r\n",
                "# df = pd.read_csv(\"SHDI_data.csv\")\r\n",
                "df = df.reset_index()\r\n",
                "df = df.rename(columns={'index': 'id'})\r\n",
                "df['id'] = df['id'].astype(str)\r\n",
                "del df['pop']\r\n",
                "result = df[:1000]"
            ],
            "outputs": [],
            "metadata": {}
        },
        {
            "cell_type": "code",
            "execution_count": 18,
            "source": [
                "\r\n",
                "for i in result.index:\r\n",
                "        cols  = ','.join(list(result.columns))\r\n",
                "        vals  = [result.at[i,col] for col in list(result.columns)]\r\n",
                "        query = \"INSERT INTO Benchmark VALUES('%s','%s','%s','%s','%s','%s','%s','%s','%s','%s','%s','%s','%s','%s','%s')\" % (cols, vals[0], vals[1], vals[2],vals[3],vals[4],vals[5], vals[6], vals[7],vals[8],vals[9],vals[10], vals[11], vals[12], vals[13])\r\n",
                "        cursor.execute(query)\r\n",
                "        \r\n",
                "print(\"single_inserts are done\")\r\n",
                "con.commit()\r\n"
            ],
            "outputs": [
                {
                    "output_type": "stream",
                    "name": "stdout",
                    "text": [
                        "single_inserts are done\n"
                    ]
                }
            ],
            "metadata": {}
        },
        {
            "cell_type": "code",
            "execution_count": 19,
            "source": [
                "on = mysql.connector.connect(user=s.USER, password=s.PASS,\r\n",
                "                              host=s.HOST,\r\n",
                "                              database='benchmark')\r\n",
                "\r\n",
                "cursor = con.cursor(buffered=True)\r\n",
                "cursor.execute(\"SELECT * FROM Benchmark where id = '10'  LIMIT 0, 1;\")\r\n",
                "fname = cursor.fetchall()"
            ],
            "outputs": [],
            "metadata": {}
        },
        {
            "cell_type": "code",
            "execution_count": 20,
            "source": [
                "print(fname)"
            ],
            "outputs": [
                {
                    "output_type": "stream",
                    "name": "stdout",
                    "text": [
                        "[]\n"
                    ]
                }
            ],
            "metadata": {}
        }
    ],
    "metadata": {
        "orig_nbformat": 4,
        "language_info": {
            "name": "python",
            "version": "3.6.4",
            "mimetype": "text/x-python",
            "codemirror_mode": {
                "name": "ipython",
                "version": 3
            },
            "pygments_lexer": "ipython3",
            "nbconvert_exporter": "python",
            "file_extension": ".py"
        },
        "kernelspec": {
            "name": "python3",
            "display_name": "Python 3.6.4 32-bit"
        },
        "interpreter": {
            "hash": "dc0461bfa2fe71d97b26de1ab0409ac070a5d75348b3210766d948b48bd50449"
        }
    },
    "nbformat": 4,
    "nbformat_minor": 2
}