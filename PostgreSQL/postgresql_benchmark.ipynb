{
    "cells": [
        {
            "cell_type": "code",
            "execution_count": null,
            "source": [
                "# pip install json\r\n",
                "# pip install sqlalchemy"
            ],
            "outputs": [],
            "metadata": {}
        },
        {
            "cell_type": "code",
            "execution_count": 2,
            "source": [
                "import postgreSQL_settings as s\r\n",
                "import pandas as pd\r\n",
                "from sqlalchemy import create_engine\r\n",
                "from pandas.io import sql\r\n",
                "       \r\n",
                "engine = create_engine('postgresql://'+f\"{s.POSTGRES_USER}\"+':'+f\"{s.POSTGRES_PASS}\"+'@'+f\"{s.POSTGRES_HOST}\"+':5432/postgres')"
            ],
            "outputs": [],
            "metadata": {}
        },
        {
            "cell_type": "code",
            "execution_count": 15,
            "source": [
                "# Download and read csv file\r\n",
                "df = pd.read_csv('https://globaldatalab.org/assets/2019/09/SHDI%20Complete%203.0.csv',\r\n",
                "                 encoding='ISO-8859–1', dtype='str')\r\n",
                "# df = pd.read_csv(\"SHDI_data.csv\")\r\n",
                "df = df.reset_index()\r\n",
                "df = df.rename(columns={'index': 'id'})\r\n",
                "df['id'] = df['id'].astype(str)\r\n",
                "del df['pop']\r\n",
                "result = df[:1000]"
            ],
            "outputs": [],
            "metadata": {}
        },
        {
            "cell_type": "code",
            "execution_count": 24,
            "source": [
                "print(result.columns)"
            ],
            "outputs": [
                {
                    "output_type": "stream",
                    "name": "stdout",
                    "text": [
                        "Index(['id', 'iso_code', 'country', 'year', 'GDLCODE', 'level', 'region',\n",
                        "       'shdi', 'healthindex', 'incindex', 'edindex', 'lifexp', 'lgnic', 'esch',\n",
                        "       'msch'],\n",
                        "      dtype='object')\n"
                    ]
                }
            ],
            "metadata": {}
        },
        {
            "cell_type": "code",
            "execution_count": 28,
            "source": [
                "\r\n",
                "for i in result.index:\r\n",
                "        cols  = ','.join(list(result.columns))\r\n",
                "        vals  = [result.at[i,col] for col in list(result.columns)]\r\n",
                "        query = \"INSERT INTO Benchmark VALUES('%s','%s','%s','%s','%s','%s','%s','%s','%s','%s','%s','%s','%s','%s','%s')\" % (cols, vals[0], vals[1], vals[2],vals[3],vals[4],vals[5], vals[6], vals[7],vals[8],vals[9],vals[10], vals[11], vals[12], vals[13])\r\n",
                "        engine.execute(query)\r\n",
                "print(\"single_inserts are done\")"
            ],
            "outputs": [
                {
                    "output_type": "stream",
                    "name": "stdout",
                    "text": [
                        "single_inserts are done\n"
                    ]
                }
            ],
            "metadata": {}
        },
        {
            "cell_type": "code",
            "execution_count": 6,
            "source": [
                "df2 = pd.read_sql_query(\"SELECT * FROM Benchmark where id = '10';\", con=engine)"
            ],
            "outputs": [],
            "metadata": {}
        }
    ],
    "metadata": {
        "orig_nbformat": 4,
        "language_info": {
            "name": "python",
            "version": "3.6.4",
            "mimetype": "text/x-python",
            "codemirror_mode": {
                "name": "ipython",
                "version": 3
            },
            "pygments_lexer": "ipython3",
            "nbconvert_exporter": "python",
            "file_extension": ".py"
        },
        "kernelspec": {
            "name": "python3",
            "display_name": "Python 3.6.4 32-bit"
        },
        "interpreter": {
            "hash": "dc0461bfa2fe71d97b26de1ab0409ac070a5d75348b3210766d948b48bd50449"
        }
    },
    "nbformat": 4,
    "nbformat_minor": 2
}