{
    "cells": [
        {
            "cell_type": "code",
            "execution_count": 32,
            "source": [
                "# pip install urllib"
            ],
            "outputs": [
                {
                    "output_type": "stream",
                    "name": "stdout",
                    "text": [
                        "Note: you may need to restart the kernel to use updated packages.\n"
                    ]
                },
                {
                    "output_type": "stream",
                    "name": "stderr",
                    "text": [
                        "ERROR: Could not find a version that satisfies the requirement urllib (from versions: none)\n",
                        "ERROR: No matching distribution found for urllib\n",
                        "WARNING: You are using pip version 21.1.3; however, version 21.2.4 is available.\n",
                        "You should consider upgrading via the 'C:\\Users\\1\\AppData\\Local\\Programs\\Python\\Python36-32\\python.exe -m pip install --upgrade pip' command.\n"
                    ]
                }
            ],
            "metadata": {}
        },
        {
            "cell_type": "code",
            "execution_count": 2,
            "source": [
                "import SQLServer_settings as s\r\n",
                "import pandas as pd\r\n",
                "from sqlalchemy import create_engine,MetaData\r\n",
                "from pandas.io import sql\r\n",
                "import pyodbc\r\n",
                "import urllib\r\n",
                "\r\n",
                "\r\n",
                "cnxn = pyodbc.connect(\r\n",
                "    r'DRIVER={ODBC Driver 17 for SQL Server};'\r\n",
                "    f'Server={s.server};'\r\n",
                "    f'Database=benchmark;'\r\n",
                "    f'UID={s.username};'\r\n",
                "    f'PWD={s.password};')\r\n",
                "\r\n",
                "\r\n",
                "conn= urllib.parse.quote_plus('DRIVER={ODBC Driver 17 for SQL Server};SERVER='+s.server+';DATABASE=benchmark;UID='+s.username+';PWD='+ s.password)\r\n",
                "engine = create_engine('mssql+pyodbc:///?odbc_connect={}'.format(conn))\r\n",
                "\r\n"
            ],
            "outputs": [],
            "metadata": {}
        },
        {
            "cell_type": "code",
            "execution_count": 3,
            "source": [
                "# Download and read csv file\r\n",
                "df = pd.read_csv('https://globaldatalab.org/assets/2019/09/SHDI%20Complete%203.0.csv',\r\n",
                "                 encoding='ISO-8859–1', dtype='str')\r\n",
                "# df = pd.read_csv(\"SHDI_data.csv\")\r\n",
                "df = df.reset_index()\r\n",
                "# Rename that new column 'id'\r\n",
                "# Cosmos DB needs one column named 'id'.\r\n",
                "df = df.rename(columns={'index': 'id'})\r\n",
                "# Convert the id column to a string - this is a document database.\r\n",
                "df['id'] = df['id'].astype(str)\r\n",
                "result = df"
            ],
            "outputs": [],
            "metadata": {}
        },
        {
            "cell_type": "code",
            "execution_count": 4,
            "source": [
                "try:\r\n",
                "    result.to_sql(\"myTable\", con=engine, schema='dbo', if_exists='append', index=False)\r\n",
                "except Exception as e:\r\n",
                "    print(e)\r\n",
                "    print('Error when trying to export to DB')\r\n",
                "    raise e"
            ],
            "outputs": [],
            "metadata": {}
        },
        {
            "cell_type": "code",
            "execution_count": null,
            "source": [
                "df2 = pd.read_sql_query(\"SELECT * FROM myTable;\", con=engine)"
            ],
            "outputs": [],
            "metadata": {}
        }
    ],
    "metadata": {
        "orig_nbformat": 4,
        "language_info": {
            "name": "python",
            "version": "3.6.4",
            "mimetype": "text/x-python",
            "codemirror_mode": {
                "name": "ipython",
                "version": 3
            },
            "pygments_lexer": "ipython3",
            "nbconvert_exporter": "python",
            "file_extension": ".py"
        },
        "kernelspec": {
            "name": "python3",
            "display_name": "Python 3.6.4 32-bit"
        },
        "interpreter": {
            "hash": "dc0461bfa2fe71d97b26de1ab0409ac070a5d75348b3210766d948b48bd50449"
        }
    },
    "nbformat": 4,
    "nbformat_minor": 2
}