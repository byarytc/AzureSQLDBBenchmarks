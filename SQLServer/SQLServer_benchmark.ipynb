{
    "cells": [
        {
            "cell_type": "code",
            "execution_count": 32,
            "source": [
                "# pip install urllib"
            ],
            "outputs": [
                {
                    "output_type": "stream",
                    "name": "stdout",
                    "text": [
                        "Note: you may need to restart the kernel to use updated packages.\n"
                    ]
                },
                {
                    "output_type": "stream",
                    "name": "stderr",
                    "text": [
                        "ERROR: Could not find a version that satisfies the requirement urllib (from versions: none)\n",
                        "ERROR: No matching distribution found for urllib\n",
                        "WARNING: You are using pip version 21.1.3; however, version 21.2.4 is available.\n",
                        "You should consider upgrading via the 'C:\\Users\\1\\AppData\\Local\\Programs\\Python\\Python36-32\\python.exe -m pip install --upgrade pip' command.\n"
                    ]
                }
            ],
            "metadata": {}
        },
        {
            "cell_type": "code",
            "execution_count": 1,
            "source": [
                "import SQLServer_settings as s\r\n",
                "import pandas as pd\r\n",
                "from sqlalchemy import create_engine,MetaData\r\n",
                "from pandas.io import sql\r\n",
                "import pyodbc\r\n",
                "import urllib\r\n",
                "\r\n",
                "\r\n",
                "cnxn = pyodbc.connect(\r\n",
                "    r'DRIVER={ODBC Driver 17 for SQL Server};'\r\n",
                "    f'Server={s.server};'\r\n",
                "    f'Database=benchmark;'\r\n",
                "    f'UID={s.username};'\r\n",
                "    f'PWD={s.password};')\r\n",
                "\r\n",
                "\r\n",
                "conn= urllib.parse.quote_plus('DRIVER={ODBC Driver 17 for SQL Server};SERVER='+s.server+';DATABASE=benchmark;UID='+s.username+';PWD='+ s.password)\r\n",
                "engine = create_engine('mssql+pyodbc:///?odbc_connect={}'.format(conn))\r\n",
                "\r\n"
            ],
            "outputs": [],
            "metadata": {}
        },
        {
            "cell_type": "code",
            "execution_count": 25,
            "source": [
                "# Download and read csv file\r\n",
                "df = pd.read_csv('https://globaldatalab.org/assets/2019/09/SHDI%20Complete%203.0.csv',\r\n",
                "                 encoding='ISO-8859–1', dtype='str')\r\n",
                "# df = pd.read_csv(\"SHDI_data.csv\")\r\n",
                "df = df.reset_index()\r\n",
                "df = df.rename(columns={'index': 'id'})\r\n",
                "df['id'] = df['id'].astype(str)\r\n",
                "result = df[:1000]"
            ],
            "outputs": [],
            "metadata": {}
        },
        {
            "cell_type": "code",
            "execution_count": 26,
            "source": [
                "\r\n",
                "\r\n",
                "for i, row in result.iterrows():\r\n",
                "    engine.execute(\"INSERT INTO dbo.Benchmark \"                \r\n",
                "                                                \"([id],\"\r\n",
                "                                                \"[iso_code],\"\r\n",
                "                                                \"[country],\"\r\n",
                "                                                \"[year],\"\r\n",
                "                                                \"[GDLCODE],\"\r\n",
                "                                                \"[level],\"\r\n",
                "                                                \"[region],\"\r\n",
                "                                                \"[shdi],\"\r\n",
                "                                                \"[healthindex],\"\r\n",
                "                                                \"[incindex],\"\r\n",
                "                                                \"[edindex],\"\r\n",
                "                                                \"[lifexp],\"\r\n",
                "                                                \"[lgnic],\"\r\n",
                "                                                \"[esch],\"\r\n",
                "                                                \"[msch])\"\r\n",
                "        \r\n",
                "      \r\n",
                "\r\n",
                "                \"values(?\" + ',?'*14 + \")\",\r\n",
                "\r\n",
                "        \r\n",
                "                    row.id,\r\n",
                "                    row.iso_code,\r\n",
                "                    row.country,\r\n",
                "                    row.year,\r\n",
                "                    row.GDLCODE,\r\n",
                "                    row.level,\r\n",
                "                    row.region,\r\n",
                "                    row.shdi,\r\n",
                "                    row.healthindex,\r\n",
                "                    row.incindex,\r\n",
                "                    row.edindex,\r\n",
                "                    row.lifexp,\r\n",
                "                    row.lgnic,\r\n",
                "                    row.esch,\r\n",
                "                    row.msch\r\n",
                "        \r\n",
                "    )\r\n",
                "    cnxn.commit()\r\n",
                "\r\n"
            ],
            "outputs": [
                {
                    "output_type": "error",
                    "ename": "AttributeError",
                    "evalue": "'Engine' object has no attribute 'close'",
                    "traceback": [
                        "\u001b[1;31m---------------------------------------------------------------------------\u001b[0m",
                        "\u001b[1;31mAttributeError\u001b[0m                            Traceback (most recent call last)",
                        "\u001b[1;32m<ipython-input-26-f059463219e0>\u001b[0m in \u001b[0;36m<module>\u001b[1;34m\u001b[0m\n\u001b[0;32m     40\u001b[0m     )\n\u001b[0;32m     41\u001b[0m     \u001b[0mcnxn\u001b[0m\u001b[1;33m.\u001b[0m\u001b[0mcommit\u001b[0m\u001b[1;33m(\u001b[0m\u001b[1;33m)\u001b[0m\u001b[1;33m\u001b[0m\u001b[0m\n\u001b[1;32m---> 42\u001b[1;33m \u001b[0mengine\u001b[0m\u001b[1;33m.\u001b[0m\u001b[0mclose\u001b[0m\u001b[1;33m(\u001b[0m\u001b[1;33m)\u001b[0m\u001b[1;33m\u001b[0m\u001b[0m\n\u001b[0m",
                        "\u001b[1;31mAttributeError\u001b[0m: 'Engine' object has no attribute 'close'"
                    ]
                }
            ],
            "metadata": {}
        },
        {
            "cell_type": "code",
            "execution_count": 28,
            "source": [
                "df2 = pd.read_sql_query(\"SELECT * FROM dbo.Benchmark Where id = 10;\", con=engine)\r\n",
                "print(df2)"
            ],
            "outputs": [
                {
                    "output_type": "stream",
                    "name": "stdout",
                    "text": [
                        "   id iso_code      country  year  GDLCODE   level  \\\n",
                        "0  10      AFG  Afghanistan  2003  AFGr102  Subnat   \n",
                        "\n",
                        "                                region  shdi healthindex incindex edindex  \\\n",
                        "0  Central Highlands (Bamyan Daikundi)  .397        .548     .337    .338   \n",
                        "\n",
                        "  lifexp  lgnic esch msch  \n",
                        "0   55.6  6.835  9.9  1.9  \n"
                    ]
                }
            ],
            "metadata": {}
        }
    ],
    "metadata": {
        "orig_nbformat": 4,
        "language_info": {
            "name": "python",
            "version": "3.6.4",
            "mimetype": "text/x-python",
            "codemirror_mode": {
                "name": "ipython",
                "version": 3
            },
            "pygments_lexer": "ipython3",
            "nbconvert_exporter": "python",
            "file_extension": ".py"
        },
        "kernelspec": {
            "name": "python3",
            "display_name": "Python 3.6.4 32-bit"
        },
        "interpreter": {
            "hash": "dc0461bfa2fe71d97b26de1ab0409ac070a5d75348b3210766d948b48bd50449"
        }
    },
    "nbformat": 4,
    "nbformat_minor": 2
}