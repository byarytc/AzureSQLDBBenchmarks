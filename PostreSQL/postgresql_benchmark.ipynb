{
    "cells": [
        {
            "cell_type": "code",
            "execution_count": null,
            "source": [
                "# pip install json\r\n",
                "# pip install sqlalchemy"
            ],
            "outputs": [],
            "metadata": {}
        },
        {
            "cell_type": "code",
            "execution_count": 1,
            "source": [
                "import postgreSQL_settings as s\r\n",
                "import pandas as pd\r\n",
                "from sqlalchemy import create_engine\r\n",
                "from pandas.io import sql\r\n",
                "       \r\n",
                "engine = create_engine('postgresql://'+f\"{s.POSTGRES_USER}\"+':'+f\"{s.POSTGRES_PASS}\"+'@'+f\"{s.POSTGRES_HOST}\"+':5432/postgres')"
            ],
            "outputs": [],
            "metadata": {}
        },
        {
            "cell_type": "code",
            "execution_count": 2,
            "source": [
                "# Download and read csv file\r\n",
                "df = pd.read_csv('https://globaldatalab.org/assets/2019/09/SHDI%20Complete%203.0.csv',\r\n",
                "                 encoding='ISO-8859–1', dtype='str')\r\n",
                "# df = pd.read_csv(\"SHDI_data.csv\")\r\n",
                "df = df.reset_index()\r\n",
                "# Rename that new column 'id'\r\n",
                "# Cosmos DB needs one column named 'id'.\r\n",
                "df = df.rename(columns={'index': 'id'})\r\n",
                "# Convert the id column to a string - this is a document database.\r\n",
                "df['id'] = df['id'].astype(str)\r\n",
                "result = df"
            ],
            "outputs": [],
            "metadata": {}
        },
        {
            "cell_type": "code",
            "execution_count": 7,
            "source": [
                "try:\r\n",
                "    sql.execute('drop TABLE if exists raw_data', engine)\r\n",
                "    result.to_sql('raw_data', engine, index=False, if_exists='append')\r\n",
                "except Exception as e:\r\n",
                "    print(e)\r\n",
                "    print('Error when trying to export to DB')\r\n",
                "    raise e"
            ],
            "outputs": [],
            "metadata": {}
        },
        {
            "cell_type": "code",
            "execution_count": 6,
            "source": [
                "df2 = pd.read_sql_query(\"SELECT * FROM raw_data;\", con=engine)"
            ],
            "outputs": [],
            "metadata": {}
        }
    ],
    "metadata": {
        "orig_nbformat": 4,
        "language_info": {
            "name": "python",
            "version": "3.6.4",
            "mimetype": "text/x-python",
            "codemirror_mode": {
                "name": "ipython",
                "version": 3
            },
            "pygments_lexer": "ipython3",
            "nbconvert_exporter": "python",
            "file_extension": ".py"
        },
        "kernelspec": {
            "name": "python3",
            "display_name": "Python 3.6.4 32-bit"
        },
        "interpreter": {
            "hash": "dc0461bfa2fe71d97b26de1ab0409ac070a5d75348b3210766d948b48bd50449"
        }
    },
    "nbformat": 4,
    "nbformat_minor": 2
}