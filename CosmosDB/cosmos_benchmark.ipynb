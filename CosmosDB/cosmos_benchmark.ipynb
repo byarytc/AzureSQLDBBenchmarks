{
    "cells": [
        {
            "cell_type": "code",
            "execution_count": null,
            "source": [
                "# use azure cli to create resource group in Azure\r\n",
                "# az login\r\n",
                "# az group create --location eastus --name performance-benchmark-group --subscription \"Azure subscription 1\"\r\n",
                "# az cosmosdb create --name ucusqlcosmos \\\r\n",
                "#                    --resource-group performance-benchmark-group \\\r\n",
                "#                    --locations regionName=eastus \\\r\n",
                "#                    --subscription \"Azure subscription 1\""
            ],
            "outputs": [],
            "metadata": {}
        },
        {
            "cell_type": "code",
            "execution_count": null,
            "source": [
                "pip install azure-cosmos\r\n",
                "pip install pandas"
            ],
            "outputs": [],
            "metadata": {}
        },
        {
            "cell_type": "code",
            "execution_count": 2,
            "source": [
                "import pandas as pd\r\n",
                "import json\r\n",
                "import azure.cosmos.cosmos_client as cosmos_client\r\n",
                "import azure.cosmos.errors as errors\r\n",
                "import azure.cosmos.documents as documents\r\n",
                "import azure.cosmos.http_constants as http_constants\r\n",
                "import settings as s\r\n",
                "from azure.cosmos import CosmosClient, PartitionKey, exceptions\r\n",
                "\r\n",
                "print('Imported packages successfully.')\r\n",
                "\r\n",
                "# Initialize the Cosmos client\r\n",
                "\r\n",
                "config = {\r\n",
                "    \"endpoint\": f\"{s.ENDPOINT}\",\r\n",
                "    \"primarykey\": f\"{s.PRIMARY_KEY}\"\r\n",
                "}\r\n",
                "\r\n",
                "# Create the cosmos client\r\n",
                "client = cosmos_client.CosmosClient(config[\"endpoint\"], config[\"primarykey\"])\r\n"
            ],
            "outputs": [
                {
                    "output_type": "stream",
                    "name": "stdout",
                    "text": [
                        "Imported packages successfully.\n"
                    ]
                }
            ],
            "metadata": {}
        },
        {
            "cell_type": "code",
            "execution_count": 3,
            "source": [
                "\r\n",
                "database_name = 'ucudatabase'\r\n",
                "try:\r\n",
                "    database = client.create_database(database_name)\r\n",
                "except errors.CosmosHttpResponseError:\r\n",
                "    database = client.get_database_client(database_name)\r\n",
                "\r\n",
                "\r\n",
                "# Create a collection of items in a Container\r\n",
                "# Items are the individual rows/records of your dataset\r\n",
                "# https://docs.microsoft.com/en-us/python/api/azure-cosmos/azure.cosmos.cosmos_client.cosmosclient?view=azure-python#createcontainer-database-link--collection--options-none-\r\n"
            ],
            "outputs": [],
            "metadata": {}
        },
        {
            "cell_type": "code",
            "execution_count": 27,
            "source": [
                "database_link = 'dbs/' + 'ucudatabase'\r\n",
                "container_definition = {'id': 'UCUcontainer',\r\n",
                "                        'partitionKey':\r\n",
                "                        {\r\n",
                "                            'paths': ['/country'],\r\n",
                "                            'kind': documents.PartitionKind.Hash\r\n",
                "                        }\r\n",
                "                        }\r\n",
                "try:\r\n",
                "    container = database.create_container(\r\n",
                "        id=f\"{container_definition['id']}\", partition_key=PartitionKey(path=\"/country\"))\r\n",
                "except exceptions.CosmosResourceExistsError:\r\n",
                "    container = database.get_container_client(f\"{container_definition['id']}\")\r\n",
                "except exceptions.CosmosHttpResponseError:\r\n",
                "    raise\r\n"
            ],
            "outputs": [],
            "metadata": {}
        },
        {
            "cell_type": "code",
            "execution_count": 28,
            "source": [
                "# Download and read csv file\r\n",
                "df = pd.read_csv('https://globaldatalab.org/assets/2019/09/SHDI%20Complete%203.0.csv',\r\n",
                "                 encoding='ISO-8859–1', dtype='str')\r\n",
                "# df = pd.read_csv(\"SHDI_data.csv\")\r\n",
                "# Reset index - creates a column called 'index'\r\n",
                "df = df.reset_index()\r\n",
                "# Rename that new column 'id'\r\n",
                "# Cosmos DB needs one column named 'id'.\r\n",
                "df = df.rename(columns={'index': 'id'})\r\n",
                "# Convert the id column to a string - this is a document database.\r\n",
                "df['id'] = df['id'].astype(str)\r\n",
                "df.head(2)"
            ],
            "outputs": [
                {
                    "output_type": "stream",
                    "name": "stdout",
                    "text": [
                        "48439\n"
                    ]
                }
            ],
            "metadata": {}
        },
        {
            "cell_type": "code",
            "execution_count": null,
            "source": [
                "collection_link = database_link + '/colls/' + 'UCUcontainer'\r\n",
                "\r\n",
                "for i in range(0, df.shape[0]):\r\n",
                "    # create a dictionary for the selected row\r\n",
                "    data_dict = dict(df.iloc[i, :])\r\n",
                "    # convert the dictionary to a json object.\r\n",
                "    data_dict = json.dumps(data_dict)\r\n",
                "    insert_data = container.upsert_item(json.loads(data_dict))\r\n",
                "# for dataset this took about 15 minutes for globaldatalab.org website!!!!!!  \r\n",
                "print('Records inserted successfully.')\r\n"
            ],
            "outputs": [],
            "metadata": {}
        },
        {
            "cell_type": "code",
            "execution_count": null,
            "source": [
                "dflist = []\r\n",
                "collection_link = database_link + '/colls/' + 'UCUcontainer'\r\n",
                "query = 'SELECT * FROM c where c.country=\"Afghanistan\" and c.level=\"National\"'\r\n",
                "\r\n",
                "# For-loop to retrieve individual json records from Cosmos DB\r\n",
                "# that satisfy our query\r\n",
                "for item in container.query_items(query,\r\n",
                "                                  enable_cross_partition_query=True\r\n",
                "                              ):\r\n",
                "    # Append each item as a dictionary to list\r\n",
                "    dflist.append(dict(item))\r\n",
                "\r\n",
                "# Convert list to pandas DataFrame\r\n",
                "df = pd.DataFrame(dflist)\r\n",
                "df.head()\r\n",
                "print(len(df.index))"
            ],
            "outputs": [],
            "metadata": {}
        }
    ],
    "metadata": {
        "orig_nbformat": 4,
        "language_info": {
            "name": "python",
            "version": "3.6.4",
            "mimetype": "text/x-python",
            "codemirror_mode": {
                "name": "ipython",
                "version": 3
            },
            "pygments_lexer": "ipython3",
            "nbconvert_exporter": "python",
            "file_extension": ".py"
        },
        "kernelspec": {
            "name": "python3",
            "display_name": "Python 3.6.4 32-bit"
        },
        "interpreter": {
            "hash": "dc0461bfa2fe71d97b26de1ab0409ac070a5d75348b3210766d948b48bd50449"
        }
    },
    "nbformat": 4,
    "nbformat_minor": 2
}